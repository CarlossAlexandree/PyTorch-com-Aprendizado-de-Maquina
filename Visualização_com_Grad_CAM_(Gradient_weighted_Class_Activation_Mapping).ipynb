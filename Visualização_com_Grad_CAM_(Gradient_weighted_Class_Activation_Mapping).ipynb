{
  "nbformat": 4,
  "nbformat_minor": 0,
  "metadata": {
    "colab": {
      "provenance": []
    },
    "kernelspec": {
      "name": "python3",
      "display_name": "Python 3"
    },
    "language_info": {
      "name": "python"
    }
  },
  "cells": [
    {
      "cell_type": "code",
      "source": [
        "import torch\n",
        "import torchvision.models as models\n",
        "import torchvision.transforms as transforms\n",
        "from PIL import Image\n",
        "import matplotlib.pyplot as plt\n",
        "import numpy as np\n",
        "import cv2\n",
        "import os\n",
        "\n",
        "# Carregar modelo\n",
        "# Use 'weights' instead of 'pretrained' as it is deprecated\n",
        "model = models.resnet18(weights=models.ResNet18_Weights.IMAGENET1K_V1)\n",
        "model.eval()\n",
        "\n",
        "# Hook para capturar gradientes\n",
        "gradients = []\n",
        "activations = []\n",
        "\n",
        "def backward_hook(module, grad_input, grad_output):\n",
        "    gradients.append(grad_output[0])\n",
        "\n",
        "def forward_hook(module, input, output):\n",
        "    activations.append(output)\n",
        "\n",
        "# Registrar hooks na última camada convolucional\n",
        "target_layer = model.layer4[1].conv2\n",
        "target_layer.register_forward_hook(forward_hook)\n",
        "target_layer.register_backward_hook(backward_hook)\n",
        "\n",
        "# Transformação da imagem\n",
        "transform = transforms.Compose([\n",
        "    transforms.Resize((224, 224)),\n",
        "    transforms.ToTensor()\n",
        "])\n",
        "\n",
        "# Carregar imagem\n",
        "img_path = 'exemplo.jpg'  # Substituir pelo arquivo\n",
        "\n",
        "try:\n",
        "    img = Image.open(img_path).convert('RGB')\n",
        "    input_tensor = transform(img).unsqueeze(0)\n",
        "\n",
        "    # Forward\n",
        "    output = model(input_tensor)\n",
        "    pred_class = output.argmax().item()\n",
        "\n",
        "    # Backward\n",
        "    model.zero_grad()\n",
        "    output[0, pred_class].backward()\n",
        "\n",
        "    # Grad-CAM\n",
        "    grad = gradients[0]\n",
        "    act = activations[0]\n",
        "    weights = grad.mean(dim=[2, 3], keepdim=True)\n",
        "    cam = (weights * act).sum(dim=1).squeeze()\n",
        "    cam = torch.relu(cam)\n",
        "    cam = cam - cam.min()\n",
        "    cam = cam / cam.max()\n",
        "    cam_np = cam.cpu().numpy()\n",
        "    cam_np = cv2.resize(cam_np, (224, 224))\n",
        "    heatmap = cv2.applyColorMap(np.uint8(255 * cam_np), cv2.COLORMAP_JET)\n",
        "\n",
        "    # Sobrepor na imagem original\n",
        "    img_np = np.array(img.resize((224, 224)))\n",
        "    overlay = cv2.addWeighted(img_np, 0.5, heatmap, 0.5, 0)\n",
        "\n",
        "    # Mostrar resultado\n",
        "    plt.imshow(overlay)\n",
        "    plt.title(f'Grad-CAM - Classe Predita: {pred_class}')\n",
        "    plt.axis('off')\n",
        "    plt.show()\n",
        "\n",
        "except FileNotFoundError:\n",
        "    print(f\"Erro: '{img_path}' not found. Please upload the image file.\")\n",
        "except Exception as e:\n",
        "    print(f\"An error occurred: {e}\")"
      ],
      "metadata": {
        "colab": {
          "base_uri": "https://localhost:8080/"
        },
        "id": "y8n8y6zjqJxf",
        "outputId": "f3acd8ce-4aae-4a94-b5ed-d5eb96e935fd"
      },
      "execution_count": 29,
      "outputs": [
        {
          "output_type": "stream",
          "name": "stdout",
          "text": [
            "Erro: 'exemplo.jpg' not found. Please upload the image file.\n"
          ]
        }
      ]
    },
    {
      "cell_type": "code",
      "source": [
        "from sklearn.metrics import confusion_matrix, ConfusionMatrixDisplay\n",
        "import matplotlib.pyplot as plt\n",
        "\n",
        "# Exemplo: classes reais e preditas\n",
        "y_true = [0, 1, 2, 2, 0, 1, 1, 2]\n",
        "y_pred = [0, 2, 2, 2, 0, 1, 0, 2]\n",
        "\n",
        "# Gerar matriz\n",
        "cm = confusion_matrix(y_true, y_pred)\n",
        "disp = ConfusionMatrixDisplay(confusion_matrix=cm)\n",
        "disp.plot(cmap='Blues')\n",
        "plt.title('Matriz de Confusão')\n",
        "plt.show()\n"
      ],
      "metadata": {
        "colab": {
          "base_uri": "https://localhost:8080/",
          "height": 472
        },
        "id": "Zxwc6t0YqZ8K",
        "outputId": "691e34d8-c3a9-4e65-ede2-76354a42c89a"
      },
      "execution_count": 30,
      "outputs": [
        {
          "output_type": "display_data",
          "data": {
            "text/plain": [
              "<Figure size 640x480 with 2 Axes>"
            ],
            "image/png": "[encoded data removed]"
          },
          "metadata": {}
        }
      ]
    }
  ]
}