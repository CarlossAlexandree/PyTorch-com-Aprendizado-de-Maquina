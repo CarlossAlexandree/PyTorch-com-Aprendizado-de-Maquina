{
  "nbformat": 4,
  "nbformat_minor": 0,
  "metadata": {
    "colab": {
      "provenance": []
    },
    "kernelspec": {
      "name": "python3",
      "display_name": "Python 3"
    },
    "language_info": {
      "name": "python"
    }
  },
  "cells": [
    {
      "cell_type": "code",
      "source": [
        "import torch\n",
        "\n",
        "device = torch.device(\"cuda\" if torch.cuda.is_available() else \"cpu\")\n",
        "print(\"Usando dispositivo:\", device)\n",
        "\n",
        "# Criar tensor e mover para GPU\n",
        "x = torch.randn(3, 3)\n",
        "x_gpu = x.to(device)\n",
        "print(\"Tensor na GPU:\", x_gpu)\n"
      ],
      "metadata": {
        "colab": {
          "base_uri": "https://localhost:8080/"
        },
        "id": "OekzhKedogQJ",
        "outputId": "7814897e-ba33-4138-ce69-fbb159dbb440"
      },
      "execution_count": 26,
      "outputs": [
        {
          "output_type": "stream",
          "name": "stdout",
          "text": [
            "Usando dispositivo: cpu\n",
            "Tensor na GPU: tensor([[-1.0085, -0.4618,  0.3515],\n",
            "        [-0.1204, -0.9233,  0.0068],\n",
            "        [ 1.8032,  0.0387, -0.9640]])\n"
          ]
        }
      ]
    },
    {
      "cell_type": "code",
      "source": [
        "import torch\n",
        "import torch.nn as nn\n",
        "import torch.optim as optim\n",
        "import time\n",
        "\n",
        "device = torch.device(\"cuda\" if torch.cuda.is_available() else \"cpu\")\n",
        "\n",
        "# Modelo simples\n",
        "model = nn.Sequential(\n",
        "    nn.Linear(1000, 500),\n",
        "    nn.ReLU(),\n",
        "    nn.Linear(500, 10)\n",
        ").to(device)\n",
        "\n",
        "# Dados simulados\n",
        "inputs = torch.randn(1000, 1000).to(device)\n",
        "targets = torch.randint(0, 10, (1000,)).to(device)\n",
        "\n",
        "criterion = nn.CrossEntropyLoss()\n",
        "optimizer = optim.Adam(model.parameters())\n",
        "\n",
        "start = time.time()\n",
        "for _ in range(10):\n",
        "    outputs = model(inputs)\n",
        "    loss = criterion(outputs, targets)\n",
        "    optimizer.zero_grad()\n",
        "    loss.backward()\n",
        "    optimizer.step()\n",
        "end = time.time()\n",
        "\n",
        "print(f\"Tempo de treinamento: {end - start:.2f} segundos\")\n"
      ],
      "metadata": {
        "colab": {
          "base_uri": "https://localhost:8080/"
        },
        "id": "2HKYHEtPohHj",
        "outputId": "ffe1790d-4c67-4c0f-f216-e70aca63aa0f"
      },
      "execution_count": 27,
      "outputs": [
        {
          "output_type": "stream",
          "name": "stdout",
          "text": [
            "Tempo de treinamento: 0.44 segundos\n"
          ]
        }
      ]
    }
  ]
}