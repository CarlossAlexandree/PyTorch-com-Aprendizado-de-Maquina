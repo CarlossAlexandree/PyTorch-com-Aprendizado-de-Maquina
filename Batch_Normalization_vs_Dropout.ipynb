{
  "nbformat": 4,
  "nbformat_minor": 0,
  "metadata": {
    "colab": {
      "provenance": []
    },
    "kernelspec": {
      "name": "python3",
      "display_name": "Python 3"
    },
    "language_info": {
      "name": "python"
    }
  },
  "cells": [
    {
      "cell_type": "code",
      "source": [
        "import torch\n",
        "import torch.nn as nn\n",
        "import torch.optim as optim\n",
        "from torchvision import datasets, transforms\n",
        "\n",
        "# Dados\n",
        "transform = transforms.Compose([transforms.ToTensor()])\n",
        "train = datasets.MNIST(root='./data', train=True, download=True, transform=transform)\n",
        "train_loader = torch.utils.data.DataLoader(train, batch_size=64, shuffle=True)\n",
        "\n",
        "# Modelos\n",
        "class WithBatchNorm(nn.Module):\n",
        "    def __init__(self):\n",
        "        super().__init__()\n",
        "        self.net = nn.Sequential(\n",
        "            nn.Linear(784, 256),\n",
        "            nn.BatchNorm1d(256),\n",
        "            nn.ReLU(),\n",
        "            nn.Linear(256, 10)\n",
        "        )\n",
        "    def forward(self, x):\n",
        "        return self.net(x.view(x.size(0), -1))\n",
        "\n",
        "class WithDropout(nn.Module):\n",
        "    def __init__(self):\n",
        "        super().__init__()\n",
        "        self.net = nn.Sequential(\n",
        "            nn.Linear(784, 256),\n",
        "            nn.ReLU(),\n",
        "            nn.Dropout(0.5),\n",
        "            nn.Linear(256, 10)\n",
        "        )\n",
        "    def forward(self, x):\n",
        "        return self.net(x.view(x.size(0), -1))\n",
        "\n",
        "# Treinamento\n",
        "def train_model(model):\n",
        "    optimizer = optim.Adam(model.parameters())\n",
        "    criterion = nn.CrossEntropyLoss()\n",
        "    model.train()\n",
        "    for epoch in range(1):\n",
        "        for data, target in train_loader:\n",
        "            optimizer.zero_grad()\n",
        "            output = model(data)\n",
        "            loss = criterion(output, target)\n",
        "            loss.backward()\n",
        "            optimizer.step()\n",
        "\n",
        "# Execução\n",
        "model_bn = WithBatchNorm()\n",
        "model_do = WithDropout()\n",
        "train_model(model_bn)\n",
        "train_model(model_do)\n",
        "print(\"Treinamento concluído com BatchNorm e Dropout.\")\n"
      ],
      "metadata": {
        "colab": {
          "base_uri": "https://localhost:8080/"
        },
        "id": "OSAyU3EKfq8N",
        "outputId": "11dc96ce-0dad-474a-8c2a-c2e9bf882996"
      },
      "execution_count": 4,
      "outputs": [
        {
          "output_type": "stream",
          "name": "stderr",
          "text": [
            "100%|██████████| 9.91M/9.91M [00:00<00:00, 11.6MB/s]\n",
            "100%|██████████| 28.9k/28.9k [00:00<00:00, 342kB/s]\n",
            "100%|██████████| 1.65M/1.65M [00:00<00:00, 3.13MB/s]\n",
            "100%|██████████| 4.54k/4.54k [00:00<00:00, 5.17MB/s]\n"
          ]
        },
        {
          "output_type": "stream",
          "name": "stdout",
          "text": [
            "Treinamento concluído com BatchNorm e Dropout.\n"
          ]
        }
      ]
    }
  ]
}